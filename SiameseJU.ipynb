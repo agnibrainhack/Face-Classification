{
  "nbformat": 4,
  "nbformat_minor": 0,
  "metadata": {
    "colab": {
      "name": "SiameseJU.ipynb",
      "version": "0.3.2",
      "provenance": [],
      "include_colab_link": true
    },
    "kernelspec": {
      "name": "python3",
      "display_name": "Python 3"
    },
    "accelerator": "GPU"
  },
  "cells": [
    {
      "cell_type": "markdown",
      "metadata": {
        "id": "view-in-github",
        "colab_type": "text"
      },
      "source": [
        "[View in Colaboratory](https://colab.research.google.com/github/agnibrainhack/Face-Classification/blob/master/SiameseJU.ipynb)"
      ]
    },
    {
      "metadata": {
        "id": "BzWKualVfmp7",
        "colab_type": "code",
        "colab": {
          "resources": {
            "http://localhost:8080/nbextensions/google.colab/files.js": {
              "data": "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",
              "ok": true,
              "headers": [
                [
                  "content-type",
                  "application/javascript"
                ]
              ],
              "status": 200,
              "status_text": ""
            }
          },
          "base_uri": "https://localhost:8080/",
          "height": 73
        },
        "outputId": "dd302de6-2650-4b23-8b11-c0fd3b2193e8"
      },
      "cell_type": "code",
      "source": [
        "from google.colab import files\n",
        "uploaded = files.upload()"
      ],
      "execution_count": 2,
      "outputs": [
        {
          "output_type": "display_data",
          "data": {
            "text/html": [
              "\n",
              "     <input type=\"file\" id=\"files-49639251-2ff9-403e-ac81-bc03f04e7ac8\" name=\"files[]\" multiple disabled />\n",
              "     <output id=\"result-49639251-2ff9-403e-ac81-bc03f04e7ac8\">\n",
              "      Upload widget is only available when the cell has been executed in the\n",
              "      current browser session. Please rerun this cell to enable.\n",
              "      </output>\n",
              "      <script src=\"/nbextensions/google.colab/files.js\"></script> "
            ],
            "text/plain": [
              "<IPython.core.display.HTML object>"
            ]
          },
          "metadata": {
            "tags": []
          }
        },
        {
          "output_type": "stream",
          "text": [
            "Saving siamese_train.zip to siamese_train.zip\n"
          ],
          "name": "stdout"
        }
      ]
    },
    {
      "metadata": {
        "id": "vIaTJUdHfwjf",
        "colab_type": "code",
        "colab": {}
      },
      "cell_type": "code",
      "source": [
        "from zipfile import ZipFile\n",
        " \n",
        "# specifying the zip file name\n",
        "file_name = \"siamese_train.zip\"\n",
        " \n",
        "# opening the zip file in READ mode\n",
        "with ZipFile(file_name, 'r') as zip:\n",
        "    # printing all the contents of the zip file\n",
        "    zip.printdir()\n",
        " \n",
        "    # extracting all the files\n",
        "    print('Extracting all the files now...')\n",
        "    zip.extractall()\n",
        "    print('Done!')\n",
        "    zip.close()"
      ],
      "execution_count": 0,
      "outputs": []
    },
    {
      "metadata": {
        "id": "8zbkLTfhmA4t",
        "colab_type": "code",
        "colab": {
          "base_uri": "https://localhost:8080/",
          "height": 34
        },
        "outputId": "be0f7842-7001-472a-bd58-94ebbef1e81d"
      },
      "cell_type": "code",
      "source": [
        "%reset"
      ],
      "execution_count": 148,
      "outputs": [
        {
          "output_type": "stream",
          "text": [
            "Once deleted, variables cannot be recovered. Proceed (y/[n])? y\n"
          ],
          "name": "stdout"
        }
      ]
    },
    {
      "metadata": {
        "id": "1wf-6QHR51zp",
        "colab_type": "code",
        "colab": {
          "base_uri": "https://localhost:8080/",
          "height": 34
        },
        "outputId": "b2bdba77-298e-4f11-906b-0146cd1db0db"
      },
      "cell_type": "code",
      "source": [
        "! ls"
      ],
      "execution_count": 12,
      "outputs": [
        {
          "output_type": "stream",
          "text": [
            "sample_data  saved_models  siamese_train.zip  test_data  train_data\r\n"
          ],
          "name": "stdout"
        }
      ]
    },
    {
      "metadata": {
        "id": "Cf8fFFzVC9UU",
        "colab_type": "code",
        "colab": {}
      },
      "cell_type": "code",
      "source": [
        "import os\n",
        "from keras import backend as K\n",
        "from keras.layers import Activation, Conv1D, Conv2D\n",
        "from keras.layers import Input, Lambda, Dense, Dropout, Convolution2D, MaxPooling2D, Flatten, MaxPooling1D\n",
        "from keras.layers import BatchNormalization\n",
        "from keras.models import Sequential, Model\n",
        "from keras.optimizers import RMSprop\n",
        "import matplotlib.pyplot as plt\n",
        "import numpy as np\n",
        "import tensorflow as tf\n",
        "from keras import layers\n",
        "import numpy.random as rng\n",
        "import keras\n",
        "\n",
        "from keras.regularizers import l2\n",
        "#from sklearn.cross_validation import train_test_split\n",
        "\n",
        "save_dir = os.path.join(os.getcwd(), 'saved_models')\n",
        "model_name = 'JU_intern_trained_model_siamese1.h5'"
      ],
      "execution_count": 0,
      "outputs": []
    },
    {
      "metadata": {
        "id": "OMBHiFm9g6Qe",
        "colab_type": "code",
        "colab": {}
      },
      "cell_type": "code",
      "source": [
        "import glob\n",
        "import cv2\n",
        "import numpy as np\n",
        "from random import  randint\n",
        "\n",
        "\n",
        "class GetData:\n",
        "\n",
        "    train_data_image_vector = []\n",
        "    train_data_image_vector_2 = []\n",
        "    train_data_positive_image_couple = []\n",
        "    train_data_image_label = []\n",
        "    train_data_negative_image_couple = []\n",
        "\n",
        "    test_data_image_vector = []\n",
        "    test_data_positive_image_couple = []\n",
        "    test_data_image_label = []\n",
        "    test_data_negative_image_couple = []\n",
        "\n",
        "\n",
        "    train_positive_images = glob.glob('train_data/amit_original_train/*.jpg')\n",
        "    #print(train_positive_images[1:5])\n",
        "    train_negative_images = glob.glob('train_data/non_amit_train/*.jpg')\n",
        "\n",
        "\n",
        "    test_positive_images = glob.glob('test_data/amit_original_test/*.jpg')\n",
        "    test_negative_images = glob.glob('test_data/non_amit_test/*.jpg')\n",
        "\n",
        "    #print(test_positive_images)\n",
        "\n",
        "\n",
        "    no_train_positive = len(train_positive_images)\n",
        "    no_train_negatives = len(train_negative_images)\n",
        "\n",
        "    pivot = cv2.imread('train_data/amit_original_train/1.jpg', 0)\n",
        "    #print(pivot.shape, \"hola\")\n",
        "\n",
        "    pivot_test = cv2.imread('train_data/amit_original_train/1.jpg', 0)\n",
        "    #pivot_test = pivot_test.T\n",
        "\n",
        "\n",
        "    def getTrainingX(this):\n",
        "        path = this.train_positive_images[0:1]\n",
        "        for p in path:\n",
        "            # print(\"pass1\")\n",
        "            this.pivot = cv2.imread(p, 0)\n",
        "            #this.pivot = this.pivot.T\n",
        "            for image in this.train_positive_images:\n",
        "                this.train_data_positive_image_couple.append(this.pivot)\n",
        "                open_image = cv2.imread(image,0)\n",
        "                #open_image = open_image/255\n",
        "                #open_image = open_image.T\n",
        "                #print(open_image.shape)\n",
        "                this.train_data_positive_image_couple.append(open_image)\n",
        "                #print(np.shape(this.train_data_positive_image_couple))\n",
        "                this.train_data_image_label.append(1)\n",
        "                this.train_data_image_vector.append(this.train_data_positive_image_couple)\n",
        "                #print(np.shape(this.train_data_image_vector))\n",
        "                #print(np.asarray(this.train_data_positive_image_couple).shape)\n",
        "                this.train_data_positive_image_couple = []\n",
        "                #print(\"end\")\n",
        "                \n",
        "\n",
        "            for image in this.train_negative_images:\n",
        "              \n",
        "              this.train_data_negative_image_couple.append(this.pivot)\n",
        "              open_image = cv2.imread(image, 0)\n",
        "              #open_image = open_image/255\n",
        "              #open_image = open_image.T\n",
        "              this.train_data_negative_image_couple.append(open_image)\n",
        "              this.train_data_image_label.append(0)\n",
        "              this.train_data_image_vector.append(this.train_data_negative_image_couple)\n",
        "              #print(np.asarray(this.train_data_negative_image_couple).shape)\n",
        "              this.train_data_negative_image_couple = []\n",
        "              \n",
        "\n",
        "\n",
        "#         print(np.shape(this.train_data_image_vector))\n",
        "#         print(np.shape(this.train_data_image_vector_2))\n",
        "        numpy_collection = np.array(this.train_data_image_vector)\n",
        "        print(numpy_collection.shape)\n",
        "        labels = np.array(this.train_data_image_label)\n",
        "\n",
        "        numpy_collection = np.true_divide(numpy_collection, 255)\n",
        "        # temp = numpy_collection[:,1]\n",
        "        # print(temp.shape)\n",
        "        #print(numpy_collection.shape)\n",
        "        #print(len(numpy_collection[:,1]))\n",
        "        #print(numpy_collection)\n",
        "        return numpy_collection, labels\n",
        "\n",
        "    def getTestX(this):\n",
        "        for image in this.test_positive_images:\n",
        "            this.test_data_positive_image_couple.append(this.pivot)\n",
        "            open_image = cv2.imread(image,0)\n",
        "            #open_image = open_image/255\n",
        "            #open_image = open_image.T\n",
        "            this.test_data_positive_image_couple.append(open_image)\n",
        "            this.test_data_image_label.append(1)\n",
        "            this.test_data_image_vector.append(this.test_data_positive_image_couple)\n",
        "            this.test_data_positive_image_couple = []\n",
        "\n",
        "        for image in this.test_negative_images:\n",
        "            this.test_data_negative_image_couple.append(this.pivot)\n",
        "            open_image = cv2.imread(image, 0)\n",
        "            #open_image = open_image/255\n",
        "            #open_image = open_image.T\n",
        "            \n",
        "            this.test_data_negative_image_couple.append(open_image)\n",
        "            this.test_data_image_label.append(0)\n",
        "            this.test_data_image_vector.append(this.test_data_negative_image_couple)\n",
        "            this.test_data_negative_image_couple = []\n",
        "\n",
        "        numpy_collection = np.array(this.test_data_image_vector)\n",
        "        print(numpy_collection.shape)\n",
        "        labels = np.array(this.test_data_image_label)\n",
        "\n",
        "        numpy_collection = np.true_divide(numpy_collection, 255)\n",
        "        return numpy_collection, labels\n",
        "      \n",
        "def euclidean_distance(inputs):\n",
        "    assert len(inputs) == 2, \\\n",
        "        'Euclidean distance needs 2 inputs, %d given' % len(inputs)\n",
        "    u, v = inputs\n",
        "    return K.sqrt(K.sum((K.square(u - v)), axis=1, keepdims=True))\n",
        "\n",
        "\n",
        "def eucl_dist_output_shape(shapes):\n",
        "    shape1, shape2 = shapes\n",
        "    return (shape1[0], 1)\n",
        "\n",
        "\n",
        "def contrastive_loss(y_true,y_pred):\n",
        "    margin=1.\n",
        "    return K.mean((1. - y_true) * K.square(y_pred) + y_true * K.square(K.maximum(margin - y_pred, 0.)))\n",
        " \n",
        "def compute_accuracy(predictions, labels):\n",
        "    '''Compute classification accuracy with a fixed threshold on distances.\n",
        "    '''\n",
        "    return np.mean(labels[predictions.ravel() < 0.5])\n",
        "\n",
        "\n",
        "def create_base_network(input_d):\n",
        "    '''Base network to be shared (eq. to feature extraction).\n",
        "    '''\n",
        "    seq = Sequential()\n",
        "    nb_filter = [6, 12, 64, 128, 256, 512, 1024]\n",
        "    kern_size = 1\n",
        "    # conv layers\n",
        "    \n",
        "    seq.add(Conv1D(nb_filter[3], (2), input_shape=input_d,\n",
        "                          border_mode='valid')) #1\n",
        "    seq.add(Activation('relu'))\n",
        "    seq.add(BatchNormalization())\n",
        "    #seq.add(MaxPooling2D(pool_size=(2, 2)))\n",
        "\n",
        "    seq.add(Conv1D(nb_filter[2], (2))) #2\n",
        "    seq.add(Activation('relu'))\n",
        "    #seq.add(MaxPooling2D(pool_size=(1, 1)))\n",
        "    \n",
        "    seq.add(Conv1D(nb_filter[2], (2))) #2\n",
        "    seq.add(Activation('relu'))\n",
        "    \n",
        "    seq.add(Conv1D(nb_filter[3], (5))) #3\n",
        "    seq.add(Activation('relu'))\n",
        "    seq.add(BatchNormalization())\n",
        "    seq.add(MaxPooling1D(pool_size=(1)))\n",
        "\n",
        "    seq.add(Conv1D(nb_filter[4], (5))) #4\n",
        "    seq.add(Activation('relu'))\n",
        "    seq.add(BatchNormalization())\n",
        "    seq.add(MaxPooling1D(pool_size=(3)))\n",
        "\n",
        "    seq.add(Conv1D(nb_filter[5], (7))) #5\n",
        "    seq.add(Activation('relu'))\n",
        "    seq.add(BatchNormalization())\n",
        "    seq.add(MaxPooling1D(pool_size=(5)))\n",
        "    \n",
        "\n",
        "    # dense layers\n",
        "    seq.add(Flatten())\n",
        "    seq.add(Dense(128, activation='softmax'))\n",
        "   \n",
        "    print(seq.summary())\n",
        "    return seq\n",
        "\n",
        "\n",
        "   # return model\n"
      ],
      "execution_count": 0,
      "outputs": []
    },
    {
      "metadata": {
        "id": "g99ZizbkAnfC",
        "colab_type": "code",
        "colab": {
          "base_uri": "https://localhost:8080/",
          "height": 50
        },
        "outputId": "c3ad3b85-34d2-45a8-d780-8d932644244d"
      },
      "cell_type": "code",
      "source": [
        "data = GetData()\n",
        "x_train, y_train = data.getTrainingX()\n",
        "x_test, y_test = data.getTestX()"
      ],
      "execution_count": 15,
      "outputs": [
        {
          "output_type": "stream",
          "text": [
            "(368, 2, 224, 224)\n",
            "(158, 2, 224, 224)\n"
          ],
          "name": "stdout"
        }
      ]
    },
    {
      "metadata": {
        "id": "uMN88kk-97-5",
        "colab_type": "code",
        "colab": {
          "base_uri": "https://localhost:8080/",
          "height": 34
        },
        "outputId": "5287a4ad-d943-41e8-f8fc-b647035066e3"
      },
      "cell_type": "code",
      "source": [
        "%reset"
      ],
      "execution_count": 18,
      "outputs": [
        {
          "output_type": "stream",
          "text": [
            "Once deleted, variables cannot be recovered. Proceed (y/[n])? y\n"
          ],
          "name": "stdout"
        }
      ]
    },
    {
      "metadata": {
        "id": "dPFntFoVgAtR",
        "colab_type": "code",
        "colab": {
          "base_uri": "https://localhost:8080/",
          "height": 1364
        },
        "outputId": "5c8fefaf-64fb-4aaf-ae92-7a7fe5f69b1a"
      },
      "cell_type": "code",
      "source": [
        "samp_f = 2\n",
        "total_to_samp = 10000\n",
        "# x, y = createFaceData.gen_train_data_for_conv_new(samp_f, total_to_samp)\n",
        "# print(x.shape)\n",
        "# x_train, x_test, y_train, y_test = train_test_split(x, y, test_size=.25)\n",
        "\n",
        "\n",
        "\n",
        "print(x_train.shape, y_train.shape, x_test.shape, y_test.shape)\n",
        "# because we re-use the same instance `base_network`,\n",
        "# the weights of the network\n",
        "# will be shared across the two branches\n",
        "input_dim = (224, 224)\n",
        "input_a = Input(shape=input_dim)\n",
        "input_b = Input(shape=input_dim)\n",
        "base_network = create_base_network(input_dim)\n",
        "processed_a = base_network(input_a)\n",
        "processed_b = base_network(input_b)\n",
        "\n",
        "distance = Lambda(euclidean_distance, output_shape=eucl_dist_output_shape)([processed_a, processed_b])\n",
        "\n",
        "model = Model(input=[input_a, input_b], output=distance)\n",
        "\n",
        "# train\n",
        "nb_epoch = 5\n",
        "opt = keras.optimizers.rmsprop(lr=0.0001, decay=1e-10)\n",
        "model.compile(loss=contrastive_loss, optimizer=opt)\n",
        "xtr1 = x_train[:, 0]\n",
        "xtr2 = x_train[:, 1]\n",
        "# print(xtr1.shape, y_train.shape, xtr2.shape, y_test.shape)\n",
        "history = model.fit([xtr1, xtr2], y_train,shuffle=True,\n",
        "          batch_size=8, epochs=nb_epoch, verbose=1,validation_split=0.1)\n",
        "\n",
        "# summarize history for loss\n",
        "\n",
        "\n",
        "\n",
        "# compute final accuracy on training and test sets\n",
        "pred = model.predict([x_train[:, 0], x_train[:, 1]], verbose=1)\n",
        "tr_acc = compute_accuracy(pred, y_train)\n",
        "pred = model.predict([x_test[:, 0], x_test[:, 1]])\n",
        "print(pred[:10])\n",
        "te_acc = compute_accuracy(pred, y_test)\n",
        "\n",
        "print(model.history.history.keys())\n",
        "\n",
        "# Save model and weights\n",
        "if not os.path.isdir(save_dir):\n",
        "    os.makedirs(save_dir)\n",
        "model_path = os.path.join(save_dir, model_name)\n",
        "model.save(model_path)\n",
        "\n",
        "print('Saved trained model at %s ' % model_path)\n",
        "\n",
        "print('* Accuracy on training set: %0.2f%%' % (100 * tr_acc))\n",
        "print('* Accuracy on test set: %0.2f%%' % (100 * te_acc))"
      ],
      "execution_count": 11,
      "outputs": [
        {
          "output_type": "stream",
          "text": [
            "(368, 2, 224, 224) (368,) (158, 2, 224, 224) (158,)\n"
          ],
          "name": "stdout"
        },
        {
          "output_type": "stream",
          "text": [
            "/usr/local/lib/python3.6/dist-packages/ipykernel_launcher.py:151: UserWarning: Update your `Conv1D` call to the Keras 2 API: `Conv1D(128, 2, input_shape=(224, 224), padding=\"valid\")`\n"
          ],
          "name": "stderr"
        },
        {
          "output_type": "stream",
          "text": [
            "_________________________________________________________________\n",
            "Layer (type)                 Output Shape              Param #   \n",
            "=================================================================\n",
            "conv1d_13 (Conv1D)           (None, 223, 128)          57472     \n",
            "_________________________________________________________________\n",
            "activation_13 (Activation)   (None, 223, 128)          0         \n",
            "_________________________________________________________________\n",
            "batch_normalization_9 (Batch (None, 223, 128)          512       \n",
            "_________________________________________________________________\n",
            "conv1d_14 (Conv1D)           (None, 222, 64)           16448     \n",
            "_________________________________________________________________\n",
            "activation_14 (Activation)   (None, 222, 64)           0         \n",
            "_________________________________________________________________\n",
            "conv1d_15 (Conv1D)           (None, 221, 64)           8256      \n",
            "_________________________________________________________________\n",
            "activation_15 (Activation)   (None, 221, 64)           0         \n",
            "_________________________________________________________________\n",
            "conv1d_16 (Conv1D)           (None, 217, 128)          41088     \n",
            "_________________________________________________________________\n",
            "activation_16 (Activation)   (None, 217, 128)          0         \n",
            "_________________________________________________________________\n",
            "batch_normalization_10 (Batc (None, 217, 128)          512       \n",
            "_________________________________________________________________\n",
            "max_pooling1d_7 (MaxPooling1 (None, 217, 128)          0         \n",
            "_________________________________________________________________\n",
            "conv1d_17 (Conv1D)           (None, 213, 256)          164096    \n",
            "_________________________________________________________________\n",
            "activation_17 (Activation)   (None, 213, 256)          0         \n",
            "_________________________________________________________________\n",
            "batch_normalization_11 (Batc (None, 213, 256)          1024      \n",
            "_________________________________________________________________\n",
            "max_pooling1d_8 (MaxPooling1 (None, 71, 256)           0         \n",
            "_________________________________________________________________\n",
            "conv1d_18 (Conv1D)           (None, 65, 512)           918016    \n",
            "_________________________________________________________________\n",
            "activation_18 (Activation)   (None, 65, 512)           0         \n",
            "_________________________________________________________________\n",
            "batch_normalization_12 (Batc (None, 65, 512)           2048      \n",
            "_________________________________________________________________\n",
            "max_pooling1d_9 (MaxPooling1 (None, 13, 512)           0         \n",
            "_________________________________________________________________\n",
            "flatten_3 (Flatten)          (None, 6656)              0         \n",
            "_________________________________________________________________\n",
            "dense_3 (Dense)              (None, 128)               852096    \n",
            "=================================================================\n",
            "Total params: 2,061,568\n",
            "Trainable params: 2,059,520\n",
            "Non-trainable params: 2,048\n",
            "_________________________________________________________________\n",
            "None\n"
          ],
          "name": "stdout"
        },
        {
          "output_type": "stream",
          "text": [
            "/usr/local/lib/python3.6/dist-packages/ipykernel_launcher.py:22: UserWarning: Update your `Model` call to the Keras 2 API: `Model(inputs=[<tf.Tenso..., outputs=Tensor(\"la...)`\n"
          ],
          "name": "stderr"
        },
        {
          "output_type": "stream",
          "text": [
            "Train on 331 samples, validate on 37 samples\n",
            "Epoch 1/5\n",
            "331/331 [==============================] - 5s 14ms/step - loss: 0.2236 - val_loss: 1.6904\n",
            "Epoch 2/5\n",
            "331/331 [==============================] - 2s 6ms/step - loss: 0.0480 - val_loss: 1.0390\n",
            "Epoch 3/5\n",
            "331/331 [==============================] - 2s 6ms/step - loss: 0.0211 - val_loss: 1.8750\n",
            "Epoch 4/5\n",
            "331/331 [==============================] - 2s 6ms/step - loss: 0.0087 - val_loss: 0.3725\n",
            "Epoch 5/5\n",
            "331/331 [==============================] - 2s 6ms/step - loss: 0.0096 - val_loss: 1.9525\n",
            "368/368 [==============================] - 1s 3ms/step\n",
            "[[0.34634358]\n",
            " [0.48379886]\n",
            " [1.2719846 ]\n",
            " [1.3589683 ]\n",
            " [1.2111201 ]\n",
            " [1.1587813 ]\n",
            " [0.59235454]\n",
            " [1.1668295 ]\n",
            " [1.1219605 ]\n",
            " [1.0498017 ]]\n",
            "dict_keys(['val_loss', 'loss'])\n",
            "Saved trained model at /content/saved_models/JU_intern_trained_model_siamese1.h5 \n",
            "* Accuracy on training set: 100.00%\n",
            "* Accuracy on test set: 100.00%\n"
          ],
          "name": "stdout"
        }
      ]
    },
    {
      "metadata": {
        "id": "TS0alk8pPNzM",
        "colab_type": "code",
        "colab": {
          "base_uri": "https://localhost:8080/",
          "height": 294
        },
        "outputId": "764bbf9a-5b7f-4a2c-be01-f068447b0bf1"
      },
      "cell_type": "code",
      "source": [
        "%matplotlib inline\n",
        "\n",
        "import matplotlib\n",
        "import matplotlib.pyplot as plt\n",
        "plt.plot(history.history['loss'])\n",
        "plt.title('Rapid Loss minimization in fewer epochs')\n",
        "plt.ylabel('loss')\n",
        "plt.xlabel('epoch')\n",
        "plt.show()\n"
      ],
      "execution_count": 162,
      "outputs": [
        {
          "output_type": "display_data",
          "data": {
            "image/png": "[encoded data removed]",
            "text/plain": [
              "<matplotlib.figure.Figure at 0x7f632877e0f0>"
            ]
          },
          "metadata": {
            "tags": []
          }
        }
      ]
    }
  ]
}